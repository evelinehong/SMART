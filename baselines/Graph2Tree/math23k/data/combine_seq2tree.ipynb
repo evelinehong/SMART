{
 "cells": [
  {
   "cell_type": "code",
   "execution_count": 1,
   "metadata": {
    "ExecuteTime": {
     "end_time": "2019-11-27T12:19:14.456295Z",
     "start_time": "2019-11-27T12:19:14.444043Z"
    }
   },
   "outputs": [],
   "source": [
    "# -*- coding: utf-8 -*-\n",
    "import json\n",
    "from tqdm import tqdm\n",
    "import os\n",
    "\n",
    "## 将parsing的到的graph整合到数据集文件train,val,test的json文件中，得到新的包含graph的文件"
   ]
  },
  {
   "cell_type": "code",
   "execution_count": 2,
   "metadata": {
    "ExecuteTime": {
     "end_time": "2019-11-27T12:19:16.998424Z",
     "start_time": "2019-11-27T12:19:15.056984Z"
    }
   },
   "outputs": [],
   "source": [
    "combine_flag = False\n",
    "mode = 'train'\n",
    "\n",
    "\n",
    "group_train_path = './new_train23k_processed.json'\n",
    "group_valid_path = './new_valid23k_processed.json'\n",
    "group_test_path = './new_test23k_processed.json'\n",
    "group_path = [group_train_path,group_valid_path, group_test_path]\n",
    "\n",
    "whole_path = './new_whole_processed.json'\n",
    "ori_path = './new_Math_23K.json'\n",
    "save_path = './new_Math_23K_processed.json'\n",
    "\n",
    "def read_json(path):\n",
    "    with open(path,'r',encoding=\"utf-8\") as f:\n",
    "        file = json.load(f)\n",
    "    return file\n",
    "\n",
    "\n",
    "def write_json(path,file):\n",
    "    with open(path,'w',encoding=\"utf-8\") as f:\n",
    "        json.dump(file,f)\n",
    "        \n",
    "def load_raw_data(filename):  # load the json data to list(dict()) for MATH 23K\n",
    "    print(\"Reading lines...\")\n",
    "    f = open(filename, encoding=\"utf-8\")\n",
    "    js = \"\"\n",
    "    data = []\n",
    "    for i, s in enumerate(f):\n",
    "        js += s\n",
    "        i += 1\n",
    "        if i % 7 == 0:  # every 7 line is a json\n",
    "            data_d = json.loads(js)\n",
    "            if \"千米/小时\" in data_d[\"equation\"]:\n",
    "                data_d[\"equation\"] = data_d[\"equation\"][:-5]\n",
    "            data.append(data_d)\n",
    "            js = \"\"\n",
    "\n",
    "    return data\n",
    "\n",
    "whole = read_json(group_train_path) + read_json(group_valid_path) + read_json(group_test_path)\n",
    "whole_path = './new_whole_processed.json'\n",
    "write_json(whole_path, whole)"
   ]
  },
  {
   "cell_type": "code",
   "execution_count": 5,
   "metadata": {
    "ExecuteTime": {
     "end_time": "2019-11-27T12:19:17.239758Z",
     "start_time": "2019-11-27T12:19:17.000889Z"
    }
   },
   "outputs": [
    {
     "name": "stdout",
     "output_type": "stream",
     "text": [
      "Reading lines...\n"
     ]
    }
   ],
   "source": [
    "ori_path = './Math_23K.json'\n",
    "save_path = './Math_23K_processed.json'\n",
    "whole_path = './whole_processed.json'\n",
    "\n",
    "ori = load_raw_data(ori_path)\n",
    "whole_dict = dict([(item['id'],item) for item in whole])"
   ]
  },
  {
   "cell_type": "code",
   "execution_count": 6,
   "metadata": {},
   "outputs": [
    {
     "ename": "FileNotFoundError",
     "evalue": "[Errno 2] No such file or directory: './whole_interpretable_processed.json'",
     "output_type": "error",
     "traceback": [
      "\u001b[1;31m---------------------------------------------------------------------------\u001b[0m",
      "\u001b[1;31mFileNotFoundError\u001b[0m                         Traceback (most recent call last)",
      "\u001b[1;32m<ipython-input-6-278f72dc9bfe>\u001b[0m in \u001b[0;36m<module>\u001b[1;34m\u001b[0m\n\u001b[0;32m     50\u001b[0m \u001b[0mori_path\u001b[0m \u001b[1;33m=\u001b[0m \u001b[1;34m'./Math_23K_interpretable.json'\u001b[0m\u001b[1;33m\u001b[0m\u001b[1;33m\u001b[0m\u001b[0m\n\u001b[0;32m     51\u001b[0m \u001b[0msave_path\u001b[0m \u001b[1;33m=\u001b[0m \u001b[1;34m'./Math_23K_interpretable_processed.json'\u001b[0m\u001b[1;33m\u001b[0m\u001b[1;33m\u001b[0m\u001b[0m\n\u001b[1;32m---> 52\u001b[1;33m \u001b[0mmain\u001b[0m\u001b[1;33m(\u001b[0m\u001b[0mwhole_path\u001b[0m\u001b[1;33m,\u001b[0m \u001b[0msave_path\u001b[0m\u001b[1;33m,\u001b[0m \u001b[0mori_path\u001b[0m\u001b[1;33m)\u001b[0m\u001b[1;33m\u001b[0m\u001b[1;33m\u001b[0m\u001b[0m\n\u001b[0m\u001b[0;32m     53\u001b[0m \u001b[1;33m\u001b[0m\u001b[0m\n",
      "\u001b[1;32m<ipython-input-6-278f72dc9bfe>\u001b[0m in \u001b[0;36mmain\u001b[1;34m(whole_path, save_path, ori_path)\u001b[0m\n\u001b[0;32m     40\u001b[0m \u001b[1;33m\u001b[0m\u001b[0m\n\u001b[0;32m     41\u001b[0m \u001b[1;32mdef\u001b[0m \u001b[0mmain\u001b[0m\u001b[1;33m(\u001b[0m\u001b[0mwhole_path\u001b[0m\u001b[1;33m,\u001b[0m \u001b[0msave_path\u001b[0m\u001b[1;33m,\u001b[0m \u001b[0mori_path\u001b[0m\u001b[1;33m)\u001b[0m\u001b[1;33m:\u001b[0m\u001b[1;33m\u001b[0m\u001b[1;33m\u001b[0m\u001b[0m\n\u001b[1;32m---> 42\u001b[1;33m     \u001b[0mwhole\u001b[0m \u001b[1;33m=\u001b[0m \u001b[0mread_json\u001b[0m\u001b[1;33m(\u001b[0m\u001b[0mwhole_path\u001b[0m\u001b[1;33m)\u001b[0m\u001b[1;33m\u001b[0m\u001b[1;33m\u001b[0m\u001b[0m\n\u001b[0m\u001b[0;32m     43\u001b[0m     \u001b[0mwhole_dict\u001b[0m \u001b[1;33m=\u001b[0m \u001b[0mdict\u001b[0m\u001b[1;33m(\u001b[0m\u001b[1;33m[\u001b[0m\u001b[1;33m(\u001b[0m\u001b[0mitem\u001b[0m\u001b[1;33m[\u001b[0m\u001b[1;34m'id'\u001b[0m\u001b[1;33m]\u001b[0m\u001b[1;33m,\u001b[0m\u001b[0mitem\u001b[0m\u001b[1;33m)\u001b[0m \u001b[1;32mfor\u001b[0m \u001b[0mitem\u001b[0m \u001b[1;32min\u001b[0m \u001b[0mwhole\u001b[0m\u001b[1;33m]\u001b[0m\u001b[1;33m)\u001b[0m\u001b[1;33m\u001b[0m\u001b[1;33m\u001b[0m\u001b[0m\n\u001b[0;32m     44\u001b[0m     \u001b[0mori\u001b[0m \u001b[1;33m=\u001b[0m \u001b[0mload_raw_data\u001b[0m\u001b[1;33m(\u001b[0m\u001b[0mori_path\u001b[0m\u001b[1;33m)\u001b[0m\u001b[1;33m\u001b[0m\u001b[1;33m\u001b[0m\u001b[0m\n",
      "\u001b[1;32m<ipython-input-6-278f72dc9bfe>\u001b[0m in \u001b[0;36mread_json\u001b[1;34m(path)\u001b[0m\n\u001b[0;32m      5\u001b[0m \u001b[1;33m\u001b[0m\u001b[0m\n\u001b[0;32m      6\u001b[0m \u001b[1;32mdef\u001b[0m \u001b[0mread_json\u001b[0m\u001b[1;33m(\u001b[0m\u001b[0mpath\u001b[0m\u001b[1;33m)\u001b[0m\u001b[1;33m:\u001b[0m\u001b[1;33m\u001b[0m\u001b[1;33m\u001b[0m\u001b[0m\n\u001b[1;32m----> 7\u001b[1;33m     \u001b[1;32mwith\u001b[0m \u001b[0mopen\u001b[0m\u001b[1;33m(\u001b[0m\u001b[0mpath\u001b[0m\u001b[1;33m,\u001b[0m\u001b[1;34m'r'\u001b[0m\u001b[1;33m)\u001b[0m \u001b[1;32mas\u001b[0m \u001b[0mf\u001b[0m\u001b[1;33m:\u001b[0m\u001b[1;33m\u001b[0m\u001b[1;33m\u001b[0m\u001b[0m\n\u001b[0m\u001b[0;32m      8\u001b[0m         \u001b[0mfile\u001b[0m \u001b[1;33m=\u001b[0m \u001b[0mjson\u001b[0m\u001b[1;33m.\u001b[0m\u001b[0mload\u001b[0m\u001b[1;33m(\u001b[0m\u001b[0mf\u001b[0m\u001b[1;33m)\u001b[0m\u001b[1;33m\u001b[0m\u001b[1;33m\u001b[0m\u001b[0m\n\u001b[0;32m      9\u001b[0m     \u001b[1;32mreturn\u001b[0m \u001b[0mfile\u001b[0m\u001b[1;33m\u001b[0m\u001b[1;33m\u001b[0m\u001b[0m\n",
      "\u001b[1;31mFileNotFoundError\u001b[0m: [Errno 2] No such file or directory: './whole_interpretable_processed.json'"
     ]
    }
   ],
   "source": [
    "# -*- coding: utf-8 -*-\n",
    "import json\n",
    "from tqdm import tqdm\n",
    "import os\n",
    "\n",
    "def read_json(path):\n",
    "    with open(path,'r') as f:\n",
    "        file = json.load(f)\n",
    "    return file\n",
    "\n",
    "def write_json(path,file):\n",
    "    with open(path,'w') as f:\n",
    "        json.dump(file,f)\n",
    "        \n",
    "def load_raw_data(filename):  # load the json data to list(dict()) for MATH 23K\n",
    "    print(\"Reading lines...\")\n",
    "    f = open(filename, encoding=\"utf-8\")\n",
    "    js = \"\"\n",
    "    data = []\n",
    "    for i, s in enumerate(f):\n",
    "        js += s\n",
    "        i += 1\n",
    "        if i % 7 == 0:  # every 7 line is a json\n",
    "            data_d = json.loads(js)\n",
    "            if \"千米/小时\" in data_d[\"equation\"]:\n",
    "                data_d[\"equation\"] = data_d[\"equation\"][:-5]\n",
    "            data.append(data_d)\n",
    "            js = \"\"\n",
    "\n",
    "    return data\n",
    "\n",
    "def combine_json(graph_dict, ori_json):\n",
    "    new_data = []\n",
    "    for i in tqdm(range(len(ori_json))):\n",
    "        item = {'id':ori_json[i]['id']}\n",
    "        item['group_num'] = graph_dict[item['id']]['group_num']\n",
    "        new_data.append(item)        \n",
    "    print('Graph has been inserted into ori_json!')\n",
    "    return new_data\n",
    "\n",
    "def main(whole_path, save_path, ori_path):\n",
    "    whole = read_json(whole_path)\n",
    "    whole_dict = dict([(item['id'],item) for item in whole])\n",
    "    ori = load_raw_data(ori_path)\n",
    "    new_data = combine_json(whole_dict, ori)\n",
    "    write_json(save_path, new_data)\n",
    "    print('Finished')\n",
    "    \n",
    "whole_path = './whole_processed.json'\n",
    "ori_path = './Math_23K.json'\n",
    "save_path = './Math_23K_processed.json'\n",
    "main(whole_path, save_path, ori_path)"
   ]
  },
  {
   "cell_type": "code",
   "execution_count": 5,
   "metadata": {
    "ExecuteTime": {
     "end_time": "2019-11-27T12:19:23.814137Z",
     "start_time": "2019-11-27T12:19:23.808655Z"
    }
   },
   "outputs": [
    {
     "name": "stdout",
     "output_type": "stream",
     "text": [
      "{'id': '1', 'original_text': '镇海雅乐学校二年级的小朋友到一条小路的一边植树．小朋友们每隔2米种一棵树（马路两头都种了树），最后发现一共种了11棵，这条小路长多少米．', 'segmented_text': '镇海 雅乐 学校 二年级 的 小朋友 到 一条 小路 的 一边 植树 ． 小朋友 们 每隔 2 米 种 一棵树 （ 马路 两头 都 种 了 树 ） ， 最后 发现 一共 种 了 11 棵 ， 这 条 小路 长 多少 米 ．', 'equation': 'x=(11-1)*2', 'ans': '20'}\n"
     ]
    }
   ],
   "source": [
    "print(ori[0])"
   ]
  },
  {
   "cell_type": "code",
   "execution_count": 17,
   "metadata": {},
   "outputs": [
    {
     "name": "stdout",
     "output_type": "stream",
     "text": [
      "{'id': '1', 'segmented_text': '镇海 雅乐 学校 二年级 的 小朋友 到 一条 小路 的 一边 植树 ． 小朋友 们 每隔 2 米 种 一棵树 （ 马路 两头 都 种 了 树 ） ， 最后 发现 一共 种 了 11 棵 ， 这 条 小路 长 多少 米 ．', 'original_text': '镇海雅乐学校二年级的小朋友到一条小路的一边植树．小朋友们每隔2米种一棵树（马路两头都种了树），最后发现一共种了11棵，这条小路长多少米．', 'group_num': [15, 16, 17, 32, 33, 34, 39, 40, 41], 'equation': 'x=(11-1)*2', 'ans': '20'}\n"
     ]
    }
   ],
   "source": [
    "new_ori = read_json(save_path)\n",
    "print(new_ori[0])"
   ]
  },
  {
   "cell_type": "code",
   "execution_count": null,
   "metadata": {},
   "outputs": [],
   "source": []
  },
  {
   "cell_type": "code",
   "execution_count": 20,
   "metadata": {},
   "outputs": [
    {
     "name": "stdout",
     "output_type": "stream",
     "text": [
      "每隔\n",
      "2\n",
      "米\n",
      "种\n",
      "了\n",
      "11\n",
      "小路\n",
      "长\n",
      "多少\n"
     ]
    }
   ],
   "source": [
    "seg_list = new_ori[0]['segmented_text'].split()\n",
    "for i in new_ori[0]['group_num']:\n",
    "    print(seg_list[i])"
   ]
  },
  {
   "cell_type": "code",
   "execution_count": null,
   "metadata": {},
   "outputs": [],
   "source": [
    "for item in ori:\n",
    "    num_list = item[]"
   ]
  }
 ],
 "metadata": {
  "kernelspec": {
   "display_name": "Python 3.8.5 64-bit",
   "language": "python",
   "name": "python_defaultSpec_1599693153983"
  },
  "language_info": {
   "codemirror_mode": {
    "name": "ipython",
    "version": 3
   },
   "file_extension": ".py",
   "mimetype": "text/x-python",
   "name": "python",
   "nbconvert_exporter": "python",
   "pygments_lexer": "ipython3",
   "version": "3.8.5-final"
  },
  "toc": {
   "base_numbering": 1,
   "nav_menu": {},
   "number_sections": true,
   "sideBar": true,
   "skip_h1_title": false,
   "title_cell": "Table of Contents",
   "title_sidebar": "Contents",
   "toc_cell": false,
   "toc_position": {},
   "toc_section_display": true,
   "toc_window_display": false
  }
 },
 "nbformat": 4,
 "nbformat_minor": 2
}